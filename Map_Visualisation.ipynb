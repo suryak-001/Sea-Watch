{
  "nbformat": 4,
  "nbformat_minor": 0,
  "metadata": {
    "colab": {
      "name": "Map_Visualisation.ipynb",
      "provenance": [],
      "authorship_tag": "ABX9TyNz3DguZEERERSH9x5jqDbC",
      "include_colab_link": true
    },
    "kernelspec": {
      "name": "python3",
      "display_name": "Python 3"
    },
    "language_info": {
      "name": "python"
    }
  },
  "cells": [
    {
      "cell_type": "markdown",
      "metadata": {
        "id": "view-in-github",
        "colab_type": "text"
      },
      "source": [
        "<a href=\"https://colab.research.google.com/github/suryak-001/Sea-Watch/blob/main/Map_Visualisation.ipynb\" target=\"_parent\"><img src=\"https://colab.research.google.com/assets/colab-badge.svg\" alt=\"Open In Colab\"/></a>"
      ]
    },
    {
      "cell_type": "code",
      "execution_count": null,
      "metadata": {
        "id": "SODsd8gHIiyf"
      },
      "outputs": [],
      "source": [
        "import folium\n",
        "from folium import plugins\n",
        "import ipywidgets\n",
        "import geopy\n",
        "import numpy as np\n",
        "import pandas as pd\n",
        "from vega_datasets import data as vds"
      ]
    },
    {
      "cell_type": "code",
      "source": [
        "# create map\n",
        "map1 = folium.Map(location=[9.937957889094196, 76.25963417558879], zoom_start=15)\n",
        "\n",
        "# Circle\n",
        "folium.Circle(radius=1000, location=[9.937957889094196, 76.25963417558879], color='red').add_to(map1)\n",
        "\n",
        "\n",
        "# multiple markers using dictionary\n",
        "\n",
        "markers_dict = {'Node 1': [9.9357080, 76.2598883], \n",
        "                'Node 2': [9.9373706, 76.2609531]}\n",
        "\n",
        "# plot locations\n",
        "for i in markers_dict.items():\n",
        "    folium.Marker(location=i[1], popup=i[0]).add_to(map1)\n",
        "    print(i)\n",
        "\n",
        "# display map \n",
        "map1"
      ],
      "metadata": {
        "colab": {
          "base_uri": "https://localhost:8080/",
          "height": 840
        },
        "id": "5w_EgSUqNEi1",
        "outputId": "c2988a5e-ad03-43d4-ffcc-a9ed49ed1b00"
      },
      "execution_count": null,
      "outputs": [
        {
          "output_type": "stream",
          "name": "stdout",
          "text": [
            "('Node 1', [9.935708, 76.2598883])\n",
            "('Node 2', [9.9373706, 76.2609531])\n"
          ]
        },
        {
          "output_type": "execute_result",
          "data": {
            "text/plain": [
              "<folium.folium.Map at 0x7f4fd6b93e50>"
            ],
            "text/html": [
              "<div style=\"width:100%;\"><div style=\"position:relative;width:100%;height:0;padding-bottom:60%;\"><span style=\"color:#565656\">Make this Notebook Trusted to load map: File -> Trust Notebook</span><iframe srcdoc=\"&lt;!DOCTYPE html&gt;\n",
              "&lt;head&gt;    \n",
              "    &lt;meta http-equiv=&quot;content-type&quot; content=&quot;text/html; charset=UTF-8&quot; /&gt;\n",
              "    &lt;script&gt;L_PREFER_CANVAS=false; L_NO_TOUCH=false; L_DISABLE_3D=false;&lt;/script&gt;\n",
              "    &lt;script src=&quot;https://cdn.jsdelivr.net/npm/leaflet@1.4.0/dist/leaflet.js&quot;&gt;&lt;/script&gt;\n",
              "    &lt;script src=&quot;https://code.jquery.com/jquery-1.12.4.min.js&quot;&gt;&lt;/script&gt;\n",
              "    &lt;script src=&quot;https://maxcdn.bootstrapcdn.com/bootstrap/3.2.0/js/bootstrap.min.js&quot;&gt;&lt;/script&gt;\n",
              "    &lt;script src=&quot;https://cdnjs.cloudflare.com/ajax/libs/Leaflet.awesome-markers/2.0.2/leaflet.awesome-markers.js&quot;&gt;&lt;/script&gt;\n",
              "    &lt;link rel=&quot;stylesheet&quot; href=&quot;https://cdn.jsdelivr.net/npm/leaflet@1.4.0/dist/leaflet.css&quot;/&gt;\n",
              "    &lt;link rel=&quot;stylesheet&quot; href=&quot;https://maxcdn.bootstrapcdn.com/bootstrap/3.2.0/css/bootstrap.min.css&quot;/&gt;\n",
              "    &lt;link rel=&quot;stylesheet&quot; href=&quot;https://maxcdn.bootstrapcdn.com/bootstrap/3.2.0/css/bootstrap-theme.min.css&quot;/&gt;\n",
              "    &lt;link rel=&quot;stylesheet&quot; href=&quot;https://maxcdn.bootstrapcdn.com/font-awesome/4.6.3/css/font-awesome.min.css&quot;/&gt;\n",
              "    &lt;link rel=&quot;stylesheet&quot; href=&quot;https://cdnjs.cloudflare.com/ajax/libs/Leaflet.awesome-markers/2.0.2/leaflet.awesome-markers.css&quot;/&gt;\n",
              "    &lt;link rel=&quot;stylesheet&quot; href=&quot;https://rawcdn.githack.com/python-visualization/folium/master/folium/templates/leaflet.awesome.rotate.css&quot;/&gt;\n",
              "    &lt;style&gt;html, body {width: 100%;height: 100%;margin: 0;padding: 0;}&lt;/style&gt;\n",
              "    &lt;style&gt;#map {position:absolute;top:0;bottom:0;right:0;left:0;}&lt;/style&gt;\n",
              "    \n",
              "    &lt;meta name=&quot;viewport&quot; content=&quot;width=device-width,\n",
              "        initial-scale=1.0, maximum-scale=1.0, user-scalable=no&quot; /&gt;\n",
              "    &lt;style&gt;#map_2d0f440c70f91a3f3872a1bf71abfa45 {\n",
              "        position: relative;\n",
              "        width: 100.0%;\n",
              "        height: 100.0%;\n",
              "        left: 0.0%;\n",
              "        top: 0.0%;\n",
              "        }\n",
              "    &lt;/style&gt;\n",
              "&lt;/head&gt;\n",
              "&lt;body&gt;    \n",
              "    \n",
              "    &lt;div class=&quot;folium-map&quot; id=&quot;map_2d0f440c70f91a3f3872a1bf71abfa45&quot; &gt;&lt;/div&gt;\n",
              "&lt;/body&gt;\n",
              "&lt;script&gt;    \n",
              "    \n",
              "    \n",
              "        var bounds = null;\n",
              "    \n",
              "\n",
              "    var map_2d0f440c70f91a3f3872a1bf71abfa45 = L.map(\n",
              "        &#x27;map_2d0f440c70f91a3f3872a1bf71abfa45&#x27;, {\n",
              "        center: [9.937957889094196, 76.25963417558879],\n",
              "        zoom: 15,\n",
              "        maxBounds: bounds,\n",
              "        layers: [],\n",
              "        worldCopyJump: false,\n",
              "        crs: L.CRS.EPSG3857,\n",
              "        zoomControl: true,\n",
              "        });\n",
              "\n",
              "\n",
              "    \n",
              "    var tile_layer_c8a6a5d71d400bf966948f10e8445bb0 = L.tileLayer(\n",
              "        &#x27;https://{s}.tile.openstreetmap.org/{z}/{x}/{y}.png&#x27;,\n",
              "        {\n",
              "        &quot;attribution&quot;: null,\n",
              "        &quot;detectRetina&quot;: false,\n",
              "        &quot;maxNativeZoom&quot;: 18,\n",
              "        &quot;maxZoom&quot;: 18,\n",
              "        &quot;minZoom&quot;: 0,\n",
              "        &quot;noWrap&quot;: false,\n",
              "        &quot;opacity&quot;: 1,\n",
              "        &quot;subdomains&quot;: &quot;abc&quot;,\n",
              "        &quot;tms&quot;: false\n",
              "}).addTo(map_2d0f440c70f91a3f3872a1bf71abfa45);\n",
              "    \n",
              "\n",
              "            var circle_138bf92066bfa39fa06d5a13649eeae7 = L.circle(\n",
              "                [9.937957889094196, 76.25963417558879],\n",
              "                {\n",
              "  &quot;bubblingMouseEvents&quot;: true,\n",
              "  &quot;color&quot;: &quot;red&quot;,\n",
              "  &quot;dashArray&quot;: null,\n",
              "  &quot;dashOffset&quot;: null,\n",
              "  &quot;fill&quot;: false,\n",
              "  &quot;fillColor&quot;: &quot;red&quot;,\n",
              "  &quot;fillOpacity&quot;: 0.2,\n",
              "  &quot;fillRule&quot;: &quot;evenodd&quot;,\n",
              "  &quot;lineCap&quot;: &quot;round&quot;,\n",
              "  &quot;lineJoin&quot;: &quot;round&quot;,\n",
              "  &quot;opacity&quot;: 1.0,\n",
              "  &quot;radius&quot;: 1000,\n",
              "  &quot;stroke&quot;: true,\n",
              "  &quot;weight&quot;: 3\n",
              "}\n",
              "                )\n",
              "                .addTo(map_2d0f440c70f91a3f3872a1bf71abfa45);\n",
              "            \n",
              "    \n",
              "        var marker_c9d6675fb5645519228286028af7dfa1 = L.marker(\n",
              "            [9.935708, 76.2598883],\n",
              "            {\n",
              "                icon: new L.Icon.Default(),\n",
              "                }\n",
              "            ).addTo(map_2d0f440c70f91a3f3872a1bf71abfa45);\n",
              "        \n",
              "    \n",
              "            var popup_4b549f95b409ee7f8ded89e5b2522928 = L.popup({maxWidth: &#x27;100%&#x27;\n",
              "            \n",
              "            });\n",
              "\n",
              "            \n",
              "                var html_62c4b5661d952d181dd60fa32416a266 = $(`&lt;div id=&quot;html_62c4b5661d952d181dd60fa32416a266&quot; style=&quot;width: 100.0%; height: 100.0%;&quot;&gt;Node 1&lt;/div&gt;`)[0];\n",
              "                popup_4b549f95b409ee7f8ded89e5b2522928.setContent(html_62c4b5661d952d181dd60fa32416a266);\n",
              "            \n",
              "\n",
              "            marker_c9d6675fb5645519228286028af7dfa1.bindPopup(popup_4b549f95b409ee7f8ded89e5b2522928)\n",
              "            ;\n",
              "\n",
              "            \n",
              "        \n",
              "    \n",
              "        var marker_a0aa661858017891da1d190553c3d71a = L.marker(\n",
              "            [9.9373706, 76.2609531],\n",
              "            {\n",
              "                icon: new L.Icon.Default(),\n",
              "                }\n",
              "            ).addTo(map_2d0f440c70f91a3f3872a1bf71abfa45);\n",
              "        \n",
              "    \n",
              "            var popup_abbd8bd539e52bbaf4fd7bb97e570efa = L.popup({maxWidth: &#x27;100%&#x27;\n",
              "            \n",
              "            });\n",
              "\n",
              "            \n",
              "                var html_15d94e7bc7982f8c732020d18698c9b8 = $(`&lt;div id=&quot;html_15d94e7bc7982f8c732020d18698c9b8&quot; style=&quot;width: 100.0%; height: 100.0%;&quot;&gt;Node 2&lt;/div&gt;`)[0];\n",
              "                popup_abbd8bd539e52bbaf4fd7bb97e570efa.setContent(html_15d94e7bc7982f8c732020d18698c9b8);\n",
              "            \n",
              "\n",
              "            marker_a0aa661858017891da1d190553c3d71a.bindPopup(popup_abbd8bd539e52bbaf4fd7bb97e570efa)\n",
              "            ;\n",
              "\n",
              "            \n",
              "        \n",
              "&lt;/script&gt;\" style=\"position:absolute;width:100%;height:100%;left:0;top:0;border:none !important;\" allowfullscreen webkitallowfullscreen mozallowfullscreen></iframe></div></div>"
            ]
          },
          "metadata": {},
          "execution_count": 28
        }
      ]
    }
  ]
}